{
  "cells": [
    {
      "cell_type": "code",
      "source": [
        "!unzip competitive-data-science-predict-future-sales.zip -d /content/input"
      ],
      "metadata": {
        "colab": {
          "base_uri": "https://localhost:8080/"
        },
        "id": "jeHJW4TDrGXY",
        "outputId": "c743a22e-08ff-4d8b-ed84-9c3fd7352007"
      },
      "execution_count": 9,
      "outputs": [
        {
          "output_type": "stream",
          "name": "stdout",
          "text": [
            "Archive:  competitive-data-science-predict-future-sales.zip\n",
            "  inflating: /content/input/item_categories.csv  \n",
            "  inflating: /content/input/items.csv  \n",
            "  inflating: /content/input/sales_train.csv  \n",
            "  inflating: /content/input/sample_submission.csv  \n",
            "  inflating: /content/input/shops.csv  \n",
            "  inflating: /content/input/test.csv  \n"
          ]
        }
      ]
    },
    {
      "metadata": {
        "_uuid": "55f0ed2ac468f0eb59c24726ca0c9bdc8884c345",
        "id": "UnkTnzpnnjgC"
      },
      "cell_type": "markdown",
      "source": [
        "This notebook is simpified version of the final project in the [How to Win a Data Science Competition: Learn from Top Kagglers](https://www.coursera.org/learn/competitive-data-science) course. Simplified means without ensembling.\n",
        "\n",
        "#### Pipline\n",
        "* load data\n",
        "* heal data and remove outliers\n",
        "* work with shops/items/cats objects and features\n",
        "* create matrix as product of item/shop pairs within each month in the train set\n",
        "* get monthly sales for each item/shop pair in the train set and merge it to the matrix\n",
        "* clip item_cnt_month by (0,20)\n",
        "* append test to the matrix, fill 34 month nans with zeros\n",
        "* merge shops/items/cats to the matrix\n",
        "* add target lag features\n",
        "* add mean encoded features\n",
        "* add price trend features\n",
        "* add month\n",
        "* add days\n",
        "* add months since last sale/months since first sale features\n",
        "* cut first year and drop columns which can not be calculated for the test set\n",
        "* select best features\n",
        "* set validation strategy 34 test, 33 validation, less than 33 train\n",
        "* fit the model, predict and clip targets for the test set"
      ]
    },
    {
      "metadata": {
        "_uuid": "f03379ee467570732ebb2b3d20062fea0584d57d",
        "id": "_aHlHmEznjgM"
      },
      "cell_type": "markdown",
      "source": [
        "# Part 1, perfect features"
      ]
    },
    {
      "metadata": {
        "_cell_guid": "b1076dfc-b9ad-4769-8c92-a6c4dae69d19",
        "_uuid": "8f2839f25d086af736a60e9eeb907d3b93b6e0e5",
        "trusted": true,
        "colab": {
          "base_uri": "https://localhost:8080/"
        },
        "id": "qs6lydFtnjgN",
        "outputId": "5c9fc37e-9d02-498b-b653-3c6d35065792"
      },
      "cell_type": "code",
      "source": [
        "import numpy as np\n",
        "import pandas as pd\n",
        "pd.set_option('display.max_rows', 500)\n",
        "pd.set_option('display.max_columns', 100)\n",
        "\n",
        "from itertools import product\n",
        "from sklearn.preprocessing import LabelEncoder\n",
        "\n",
        "import seaborn as sns\n",
        "import matplotlib.pyplot as plt\n",
        "%matplotlib inline\n",
        "\n",
        "from xgboost import XGBRegressor\n",
        "from xgboost import plot_importance\n",
        "\n",
        "def plot_features(booster, figsize):    \n",
        "    fig, ax = plt.subplots(1,1,figsize=figsize)\n",
        "    return plot_importance(booster=booster, ax=ax)\n",
        "\n",
        "import time\n",
        "import sys\n",
        "import gc\n",
        "import pickle\n",
        "sys.version_info"
      ],
      "execution_count": 10,
      "outputs": [
        {
          "output_type": "execute_result",
          "data": {
            "text/plain": [
              "sys.version_info(major=3, minor=7, micro=12, releaselevel='final', serial=0)"
            ]
          },
          "metadata": {},
          "execution_count": 10
        }
      ]
    },
    {
      "metadata": {
        "_uuid": "f0a1c729d4fb3d6609f9dfb163ebe92fa9dc654c",
        "trusted": true,
        "collapsed": true,
        "id": "azcZiqo9njgQ"
      },
      "cell_type": "code",
      "source": [
        "items = pd.read_csv('./input/items.csv')\n",
        "shops = pd.read_csv('./input/shops.csv')\n",
        "cats = pd.read_csv('./input/item_categories.csv')\n",
        "train = pd.read_csv('./input/sales_train.csv')\n",
        "# set index to ID to avoid droping it later\n",
        "test  = pd.read_csv('./input/test.csv').set_index('ID')"
      ],
      "execution_count": 14,
      "outputs": []
    },
    {
      "metadata": {
        "_uuid": "ed7a190645750a818e29a6291ba2553a91764c7c",
        "id": "G7gatxBknjgR"
      },
      "cell_type": "markdown",
      "source": [
        "## Outliers"
      ]
    },
    {
      "metadata": {
        "_uuid": "425d8f2dc08378977b393bf80c5fdcf0fba2c992",
        "id": "V7jNfmU3njgS"
      },
      "cell_type": "markdown",
      "source": [
        "There are items with strange prices and sales. After detailed exploration I decided to remove items with price > 100000 and sales > 1001 (1000 is ok)."
      ]
    },
    {
      "metadata": {
        "_uuid": "5a864412fafc3129a3e9bd5bb1f18a7cf0c62935",
        "trusted": true,
        "colab": {
          "base_uri": "https://localhost:8080/",
          "height": 560
        },
        "id": "ZTUBgGcFnjgT",
        "outputId": "7e009182-f821-44c8-ecda-4a6c6f726343"
      },
      "cell_type": "code",
      "source": [
        "plt.figure(figsize=(10,4))\n",
        "plt.xlim(-100, 3000)\n",
        "sns.boxplot(x=train.item_cnt_day)\n",
        "\n",
        "plt.figure(figsize=(10,4))\n",
        "plt.xlim(train.item_price.min(), train.item_price.max()*1.1)\n",
        "sns.boxplot(x=train.item_price)"
      ],
      "execution_count": 16,
      "outputs": [
        {
          "output_type": "execute_result",
          "data": {
            "text/plain": [
              "<matplotlib.axes._subplots.AxesSubplot at 0x7f1b474443d0>"
            ]
          },
          "metadata": {},
          "execution_count": 16
        },
        {
          "output_type": "display_data",
          "data": {
            "image/png": "[encoded data removed]",
            "text/plain": [
              "<Figure size 720x288 with 1 Axes>"
            ]
          },
          "metadata": {
            "needs_background": "light"
          }
        },
        {
          "output_type": "display_data",
          "data": {
            "image/png": "[encoded data removed]",
            "text/plain": [
              "<Figure size 720x288 with 1 Axes>"
            ]
          },
          "metadata": {
            "needs_background": "light"
          }
        }
      ]
    },
    {
      "metadata": {
        "_uuid": "7e621535d112603c60aeb2c2f83dbbf96d36b732",
        "trusted": true,
        "collapsed": true,
        "id": "N5V4FX3snjgW"
      },
      "cell_type": "code",
      "source": [
        "train = train[train.item_price<100000]\n",
        "train = train[train.item_cnt_day<1001]"
      ],
      "execution_count": 17,
      "outputs": []
    },
    {
      "metadata": {
        "_uuid": "d2f99368478e3063b1c379537944e954d7186928",
        "id": "n_mp8igTnjgX"
      },
      "cell_type": "markdown",
      "source": [
        "There is one item with price below zero. Fill it with median."
      ]
    },
    {
      "metadata": {
        "_uuid": "0fc6b90b22fe232f4240ac8f965cc52b3db5526a",
        "trusted": true,
        "collapsed": true,
        "id": "Z7cGzz6BnjgY"
      },
      "cell_type": "code",
      "source": [
        "median = train[(train.shop_id==32)&(train.item_id==2973)&(train.date_block_num==4)&(train.item_price>0)].item_price.median()\n",
        "train.loc[train.item_price<0, 'item_price'] = median"
      ],
      "execution_count": 18,
      "outputs": []
    },
    {
      "metadata": {
        "_uuid": "7da194c285d696b5c6978148bf0143b9b2a7b0c5",
        "id": "heWagK0KnjgZ"
      },
      "cell_type": "markdown",
      "source": [
        "Several shops are duplicates of each other (according to its name). Fix train and test set."
      ]
    },
    {
      "metadata": {
        "_uuid": "00fe91e9c482ea413abd774ff903fe3d152785dd",
        "trusted": true,
        "collapsed": true,
        "id": "4T797FOynjga"
      },
      "cell_type": "code",
      "source": [
        "# Якутск Орджоникидзе, 56\n",
        "train.loc[train.shop_id == 0, 'shop_id'] = 57\n",
        "test.loc[test.shop_id == 0, 'shop_id'] = 57\n",
        "# Якутск ТЦ \"Центральный\"\n",
        "train.loc[train.shop_id == 1, 'shop_id'] = 58\n",
        "test.loc[test.shop_id == 1, 'shop_id'] = 58\n",
        "# Жуковский ул. Чкалова 39м²\n",
        "train.loc[train.shop_id == 10, 'shop_id'] = 11\n",
        "test.loc[test.shop_id == 10, 'shop_id'] = 11"
      ],
      "execution_count": 19,
      "outputs": []
    },
    {
      "metadata": {
        "_uuid": "a30f0521464e1fa20444e66d24bbdcb76b93f6de",
        "id": "ssqqFewenjgb"
      },
      "cell_type": "markdown",
      "source": [
        "## Shops/Cats/Items preprocessing\n",
        "Observations:\n",
        "* Each shop_name starts with the city name.\n",
        "* Each category contains type and subtype in its name."
      ]
    },
    {
      "metadata": {
        "_uuid": "12fae4c8d0c8f3e817307d1e0ffc6831e9a8d696",
        "trusted": true,
        "collapsed": true,
        "id": "JDuTqQ9Gnjgb"
      },
      "cell_type": "code",
      "source": [
        "shops.loc[shops.shop_name == 'Сергиев Посад ТЦ \"7Я\"', 'shop_name'] = 'СергиевПосад ТЦ \"7Я\"'\n",
        "shops['city'] = shops['shop_name'].str.split(' ').map(lambda x: x[0])\n",
        "shops.loc[shops.city == '!Якутск', 'city'] = 'Якутск'\n",
        "shops['city_code'] = LabelEncoder().fit_transform(shops['city'])\n",
        "shops = shops[['shop_id','city_code']]\n",
        "\n",
        "cats['split'] = cats['item_category_name'].str.split('-')\n",
        "cats['type'] = cats['split'].map(lambda x: x[0].strip())\n",
        "cats['type_code'] = LabelEncoder().fit_transform(cats['type'])\n",
        "# if subtype is nan then type\n",
        "cats['subtype'] = cats['split'].map(lambda x: x[1].strip() if len(x) > 1 else x[0].strip())\n",
        "cats['subtype_code'] = LabelEncoder().fit_transform(cats['subtype'])\n",
        "cats = cats[['item_category_id','type_code', 'subtype_code']]\n",
        "\n",
        "items.drop(['item_name'], axis=1, inplace=True)"
      ],
      "execution_count": 20,
      "outputs": []
    },
    {
      "metadata": {
        "_uuid": "62c5f83fa222595da99294f465ab28e80ce415e9",
        "id": "V4CLXoQRnjgc"
      },
      "cell_type": "markdown",
      "source": [
        "## Monthly sales\n",
        "Test set is a product of some shops and some items within 34 month. There are 5100 items * 42 shops = 214200 pairs. 363 items are new compared to the train. Hence, for the most of the items in the test set target value should be zero. \n",
        "In the other hand train set contains only pairs which were sold or returned in the past. Tha main idea is to calculate monthly sales and <b>extend it with zero sales</b> for each unique pair within the month. This way train data will be similar to test data."
      ]
    },
    {
      "metadata": {
        "_uuid": "fb69350aef2c28cdb619e2532de1e24ab3c43899",
        "trusted": true,
        "colab": {
          "base_uri": "https://localhost:8080/"
        },
        "id": "X5dWD5MZnjgd",
        "outputId": "bd8a96b0-26c6-41d2-afe8-e21d054084fa"
      },
      "cell_type": "code",
      "source": [
        "len(list(set(test.item_id) - set(test.item_id).intersection(set(train.item_id)))), len(list(set(test.item_id))), len(test)"
      ],
      "execution_count": 21,
      "outputs": [
        {
          "output_type": "execute_result",
          "data": {
            "text/plain": [
              "(363, 5100, 214200)"
            ]
          },
          "metadata": {},
          "execution_count": 21
        }
      ]
    },
    {
      "metadata": {
        "_uuid": "7626c7455ea71b65894c6c866519df15080fa2ac",
        "trusted": true,
        "colab": {
          "base_uri": "https://localhost:8080/"
        },
        "id": "xidwZhYMnjgd",
        "outputId": "d559189f-7592-46d3-d6df-960d2b9e0525"
      },
      "cell_type": "code",
      "source": [
        "ts = time.time()\n",
        "matrix = []\n",
        "cols = ['date_block_num','shop_id','item_id']\n",
        "for i in range(34):\n",
        "    sales = train[train.date_block_num==i]\n",
        "    matrix.append(np.array(list(product([i], sales.shop_id.unique(), sales.item_id.unique())), dtype='int16'))\n",
        "    \n",
        "matrix = pd.DataFrame(np.vstack(matrix), columns=cols)\n",
        "matrix['date_block_num'] = matrix['date_block_num'].astype(np.int8)\n",
        "matrix['shop_id'] = matrix['shop_id'].astype(np.int8)\n",
        "matrix['item_id'] = matrix['item_id'].astype(np.int16)\n",
        "matrix.sort_values(cols,inplace=True)\n",
        "time.time() - ts"
      ],
      "execution_count": 22,
      "outputs": [
        {
          "output_type": "execute_result",
          "data": {
            "text/plain": [
              "13.877669334411621"
            ]
          },
          "metadata": {},
          "execution_count": 22
        }
      ]
    },
    {
      "metadata": {
        "_uuid": "867e91a7570dd78b4834f4f1a166e58f80b63f93",
        "id": "SRyqX0Zenjge"
      },
      "cell_type": "markdown",
      "source": [
        "Aggregate train set by shop/item pairs to calculate target aggreagates, then <b>clip(0,20)</b> target value. This way train target will be similar to the test predictions.\n",
        "\n",
        "<i>I use floats instead of ints for item_cnt_month to avoid downcasting it after concatination with the test set later. If it would be int16, after concatination with NaN values it becomes int64, but foat16 becomes float16 even with NaNs.</i>"
      ]
    },
    {
      "metadata": {
        "_uuid": "9fef5477060be7d2e6c85dcb79d8e18e6253f7dd",
        "trusted": true,
        "collapsed": true,
        "id": "bVpYP7rLnjge"
      },
      "cell_type": "code",
      "source": [
        "train['revenue'] = train['item_price'] *  train['item_cnt_day']"
      ],
      "execution_count": 23,
      "outputs": []
    },
    {
      "metadata": {
        "_uuid": "7dd27181918fc7df89676e24d72130d183929d2d",
        "trusted": true,
        "colab": {
          "base_uri": "https://localhost:8080/"
        },
        "id": "1uIcv2iWnjgf",
        "outputId": "2b37bd0b-544c-4622-abfb-63356480e4db"
      },
      "cell_type": "code",
      "source": [
        "ts = time.time()\n",
        "group = train.groupby(['date_block_num','shop_id','item_id']).agg({'item_cnt_day': ['sum']})\n",
        "group.columns = ['item_cnt_month']\n",
        "group.reset_index(inplace=True)\n",
        "\n",
        "matrix = pd.merge(matrix, group, on=cols, how='left')\n",
        "matrix['item_cnt_month'] = (matrix['item_cnt_month']\n",
        "                                .fillna(0)\n",
        "                                .clip(0,20) # NB clip target here\n",
        "                                .astype(np.float16))\n",
        "time.time() - ts"
      ],
      "execution_count": 24,
      "outputs": [
        {
          "output_type": "execute_result",
          "data": {
            "text/plain": [
              "5.791258335113525"
            ]
          },
          "metadata": {},
          "execution_count": 24
        }
      ]
    },
    {
      "metadata": {
        "_uuid": "315bc6107a93f3926a64fd09ea9244e9281ee41f",
        "id": "C_OMDaj5njgg"
      },
      "cell_type": "markdown",
      "source": [
        "## Test set\n",
        "To use time tricks append test pairs to the matrix."
      ]
    },
    {
      "metadata": {
        "_uuid": "29d02bdb4fa768577607bf735b918ca81da85d41",
        "trusted": true,
        "collapsed": true,
        "id": "c-OCf8yfnjgg"
      },
      "cell_type": "code",
      "source": [
        "test['date_block_num'] = 34\n",
        "test['date_block_num'] = test['date_block_num'].astype(np.int8)\n",
        "test['shop_id'] = test['shop_id'].astype(np.int8)\n",
        "test['item_id'] = test['item_id'].astype(np.int16)"
      ],
      "execution_count": 25,
      "outputs": []
    },
    {
      "metadata": {
        "_uuid": "177fbbab94c8057d67d61357d29581248468a74d",
        "trusted": true,
        "colab": {
          "base_uri": "https://localhost:8080/"
        },
        "id": "XglCOOBdnjgg",
        "outputId": "4d1c97d5-b8b5-4c07-cc90-c4f5db580efd"
      },
      "cell_type": "code",
      "source": [
        "ts = time.time()\n",
        "matrix = pd.concat([matrix, test], ignore_index=True, sort=False, keys=cols)\n",
        "matrix.fillna(0, inplace=True) # 34 month\n",
        "time.time() - ts"
      ],
      "execution_count": 26,
      "outputs": [
        {
          "output_type": "execute_result",
          "data": {
            "text/plain": [
              "0.10236263275146484"
            ]
          },
          "metadata": {},
          "execution_count": 26
        }
      ]
    },
    {
      "metadata": {
        "_uuid": "233e394a6cebf36ef002dc76fef8d430026a52b3",
        "id": "OGBYdXwYnjgh"
      },
      "cell_type": "markdown",
      "source": [
        "## Shops/Items/Cats features"
      ]
    },
    {
      "metadata": {
        "_uuid": "7dfd5df3e2bcaee4c312f3979736f52c40f2560f",
        "trusted": true,
        "colab": {
          "base_uri": "https://localhost:8080/"
        },
        "id": "hJ8KG3a4njgh",
        "outputId": "8847208d-48ef-4ca4-e88d-53245bee7c9d"
      },
      "cell_type": "code",
      "source": [
        "ts = time.time()\n",
        "matrix = pd.merge(matrix, shops, on=['shop_id'], how='left')\n",
        "matrix = pd.merge(matrix, items, on=['item_id'], how='left')\n",
        "matrix = pd.merge(matrix, cats, on=['item_category_id'], how='left')\n",
        "matrix['city_code'] = matrix['city_code'].astype(np.int8)\n",
        "matrix['item_category_id'] = matrix['item_category_id'].astype(np.int8)\n",
        "matrix['type_code'] = matrix['type_code'].astype(np.int8)\n",
        "matrix['subtype_code'] = matrix['subtype_code'].astype(np.int8)\n",
        "time.time() - ts"
      ],
      "execution_count": 27,
      "outputs": [
        {
          "output_type": "execute_result",
          "data": {
            "text/plain": [
              "4.190512657165527"
            ]
          },
          "metadata": {},
          "execution_count": 27
        }
      ]
    },
    {
      "metadata": {
        "_uuid": "8358b291fdc8e0e7d1b5700974803b3f104715f7",
        "id": "zz39vs24njgh"
      },
      "cell_type": "markdown",
      "source": [
        "## Traget lags"
      ]
    },
    {
      "metadata": {
        "_uuid": "9cd7bcc7643ce4545475e8e6f80d09a979aac42d",
        "trusted": true,
        "collapsed": true,
        "id": "-AbXtuq-njgi"
      },
      "cell_type": "code",
      "source": [
        "def lag_feature(df, lags, col):\n",
        "    tmp = df[['date_block_num','shop_id','item_id',col]]\n",
        "    for i in lags:\n",
        "        shifted = tmp.copy()\n",
        "        shifted.columns = ['date_block_num','shop_id','item_id', col+'_lag_'+str(i)]\n",
        "        shifted['date_block_num'] += i\n",
        "        df = pd.merge(df, shifted, on=['date_block_num','shop_id','item_id'], how='left')\n",
        "    return df"
      ],
      "execution_count": 28,
      "outputs": []
    },
    {
      "metadata": {
        "_uuid": "78bf7ece93ebc4629ad0e48cd6a9927788d8706d",
        "trusted": true,
        "collapsed": true,
        "colab": {
          "base_uri": "https://localhost:8080/"
        },
        "id": "0TAXaurCnjgi",
        "outputId": "d4915e4b-c4a9-4699-c519-b571c3785132"
      },
      "cell_type": "code",
      "source": [
        "ts = time.time()\n",
        "matrix = lag_feature(matrix, [1,2,3,6,12], 'item_cnt_month')\n",
        "time.time() - ts"
      ],
      "execution_count": 29,
      "outputs": [
        {
          "output_type": "execute_result",
          "data": {
            "text/plain": [
              "45.732280015945435"
            ]
          },
          "metadata": {},
          "execution_count": 29
        }
      ]
    },
    {
      "metadata": {
        "_uuid": "c67bf4dbcef884ffe9d19c65d37bc4de1f287ef6",
        "id": "fkY_Hu8Jnjgj"
      },
      "cell_type": "markdown",
      "source": [
        "## Mean encoded features"
      ]
    },
    {
      "metadata": {
        "_uuid": "763aca242154ea10fa0a62fffadb4ef90e9532d6",
        "trusted": true,
        "collapsed": true,
        "colab": {
          "base_uri": "https://localhost:8080/"
        },
        "id": "b9y_xPSGnjgj",
        "outputId": "e31607d5-2fd4-4ecf-f018-482abe0bfb36"
      },
      "cell_type": "code",
      "source": [
        "ts = time.time()\n",
        "group = matrix.groupby(['date_block_num']).agg({'item_cnt_month': ['mean']})\n",
        "group.columns = [ 'date_avg_item_cnt' ]\n",
        "group.reset_index(inplace=True)\n",
        "\n",
        "matrix = pd.merge(matrix, group, on=['date_block_num'], how='left')\n",
        "matrix['date_avg_item_cnt'] = matrix['date_avg_item_cnt'].astype(np.float16)\n",
        "matrix = lag_feature(matrix, [1], 'date_avg_item_cnt')\n",
        "matrix.drop(['date_avg_item_cnt'], axis=1, inplace=True)\n",
        "time.time() - ts"
      ],
      "execution_count": 30,
      "outputs": [
        {
          "output_type": "execute_result",
          "data": {
            "text/plain": [
              "11.87809419631958"
            ]
          },
          "metadata": {},
          "execution_count": 30
        }
      ]
    },
    {
      "metadata": {
        "_uuid": "fc9166c4e678ebb99d03566f1751b7d4b5c690d2",
        "trusted": true,
        "collapsed": true,
        "colab": {
          "base_uri": "https://localhost:8080/"
        },
        "id": "nRstDLdWnjgj",
        "outputId": "9bff3c2b-8ef4-480e-a334-9565f5b31866"
      },
      "cell_type": "code",
      "source": [
        "ts = time.time()\n",
        "group = matrix.groupby(['date_block_num', 'item_id']).agg({'item_cnt_month': ['mean']})\n",
        "group.columns = [ 'date_item_avg_item_cnt' ]\n",
        "group.reset_index(inplace=True)\n",
        "\n",
        "matrix = pd.merge(matrix, group, on=['date_block_num','item_id'], how='left')\n",
        "matrix['date_item_avg_item_cnt'] = matrix['date_item_avg_item_cnt'].astype(np.float16)\n",
        "matrix = lag_feature(matrix, [1,2,3,6,12], 'date_item_avg_item_cnt')\n",
        "matrix.drop(['date_item_avg_item_cnt'], axis=1, inplace=True)\n",
        "time.time() - ts"
      ],
      "execution_count": 31,
      "outputs": [
        {
          "output_type": "execute_result",
          "data": {
            "text/plain": [
              "50.326841592788696"
            ]
          },
          "metadata": {},
          "execution_count": 31
        }
      ]
    },
    {
      "metadata": {
        "_uuid": "73f2552c403c5f67bbf07f28d69efcc015d00f32",
        "trusted": true,
        "collapsed": true,
        "colab": {
          "base_uri": "https://localhost:8080/"
        },
        "id": "6BzmVhKGnjgk",
        "outputId": "5000a6a3-00e0-4783-d5a4-7a87282812ee"
      },
      "cell_type": "code",
      "source": [
        "ts = time.time()\n",
        "group = matrix.groupby(['date_block_num', 'shop_id']).agg({'item_cnt_month': ['mean']})\n",
        "group.columns = [ 'date_shop_avg_item_cnt' ]\n",
        "group.reset_index(inplace=True)\n",
        "\n",
        "matrix = pd.merge(matrix, group, on=['date_block_num','shop_id'], how='left')\n",
        "matrix['date_shop_avg_item_cnt'] = matrix['date_shop_avg_item_cnt'].astype(np.float16)\n",
        "matrix = lag_feature(matrix, [1,2,3,6,12], 'date_shop_avg_item_cnt')\n",
        "matrix.drop(['date_shop_avg_item_cnt'], axis=1, inplace=True)\n",
        "time.time() - ts"
      ],
      "execution_count": 32,
      "outputs": [
        {
          "output_type": "execute_result",
          "data": {
            "text/plain": [
              "53.86763834953308"
            ]
          },
          "metadata": {},
          "execution_count": 32
        }
      ]
    },
    {
      "metadata": {
        "_uuid": "c3948a9b206bc480b31385c29a713aa49747de19",
        "trusted": true,
        "collapsed": true,
        "colab": {
          "base_uri": "https://localhost:8080/"
        },
        "id": "2FoVzQHMnjgk",
        "outputId": "7d72588a-8d86-4b45-bcba-331cca444632"
      },
      "cell_type": "code",
      "source": [
        "ts = time.time()\n",
        "group = matrix.groupby(['date_block_num', 'item_category_id']).agg({'item_cnt_month': ['mean']})\n",
        "group.columns = [ 'date_cat_avg_item_cnt' ]\n",
        "group.reset_index(inplace=True)\n",
        "\n",
        "matrix = pd.merge(matrix, group, on=['date_block_num','item_category_id'], how='left')\n",
        "matrix['date_cat_avg_item_cnt'] = matrix['date_cat_avg_item_cnt'].astype(np.float16)\n",
        "matrix = lag_feature(matrix, [1], 'date_cat_avg_item_cnt')\n",
        "matrix.drop(['date_cat_avg_item_cnt'], axis=1, inplace=True)\n",
        "time.time() - ts"
      ],
      "execution_count": 33,
      "outputs": [
        {
          "output_type": "execute_result",
          "data": {
            "text/plain": [
              "17.84895133972168"
            ]
          },
          "metadata": {},
          "execution_count": 33
        }
      ]
    },
    {
      "metadata": {
        "_uuid": "bf98335755692f0d7666eeac2db1961692f09a16",
        "trusted": true,
        "collapsed": true,
        "colab": {
          "base_uri": "https://localhost:8080/"
        },
        "id": "4fvDecNdnjgk",
        "outputId": "ef3a345d-860d-40c9-a8c3-03f71d26eaa2"
      },
      "cell_type": "code",
      "source": [
        "ts = time.time()\n",
        "group = matrix.groupby(['date_block_num', 'shop_id', 'item_category_id']).agg({'item_cnt_month': ['mean']})\n",
        "group.columns = ['date_shop_cat_avg_item_cnt']\n",
        "group.reset_index(inplace=True)\n",
        "\n",
        "matrix = pd.merge(matrix, group, on=['date_block_num', 'shop_id', 'item_category_id'], how='left')\n",
        "matrix['date_shop_cat_avg_item_cnt'] = matrix['date_shop_cat_avg_item_cnt'].astype(np.float16)\n",
        "matrix = lag_feature(matrix, [1], 'date_shop_cat_avg_item_cnt')\n",
        "matrix.drop(['date_shop_cat_avg_item_cnt'], axis=1, inplace=True)\n",
        "time.time() - ts"
      ],
      "execution_count": 34,
      "outputs": [
        {
          "output_type": "execute_result",
          "data": {
            "text/plain": [
              "19.181913375854492"
            ]
          },
          "metadata": {},
          "execution_count": 34
        }
      ]
    },
    {
      "metadata": {
        "_uuid": "3959603ea684eb3cbfd17d557399caa6e9da88e4",
        "trusted": true,
        "collapsed": true,
        "colab": {
          "base_uri": "https://localhost:8080/"
        },
        "id": "0uQWGz3Knjgl",
        "outputId": "ca0d1fa0-7079-4d0e-9136-ad1b39ec8df1"
      },
      "cell_type": "code",
      "source": [
        "ts = time.time()\n",
        "group = matrix.groupby(['date_block_num', 'shop_id', 'type_code']).agg({'item_cnt_month': ['mean']})\n",
        "group.columns = ['date_shop_type_avg_item_cnt']\n",
        "group.reset_index(inplace=True)\n",
        "\n",
        "matrix = pd.merge(matrix, group, on=['date_block_num', 'shop_id', 'type_code'], how='left')\n",
        "matrix['date_shop_type_avg_item_cnt'] = matrix['date_shop_type_avg_item_cnt'].astype(np.float16)\n",
        "matrix = lag_feature(matrix, [1], 'date_shop_type_avg_item_cnt')\n",
        "matrix.drop(['date_shop_type_avg_item_cnt'], axis=1, inplace=True)\n",
        "time.time() - ts"
      ],
      "execution_count": 35,
      "outputs": [
        {
          "output_type": "execute_result",
          "data": {
            "text/plain": [
              "19.263588428497314"
            ]
          },
          "metadata": {},
          "execution_count": 35
        }
      ]
    },
    {
      "metadata": {
        "_uuid": "39f66d2e30f691237aa5d41ff9fc3a0eb7e9a788",
        "trusted": true,
        "collapsed": true,
        "colab": {
          "base_uri": "https://localhost:8080/"
        },
        "id": "mg5BXALinjgl",
        "outputId": "ab41e35a-2b61-4453-b39c-e96cdac375c4"
      },
      "cell_type": "code",
      "source": [
        "ts = time.time()\n",
        "group = matrix.groupby(['date_block_num', 'shop_id', 'subtype_code']).agg({'item_cnt_month': ['mean']})\n",
        "group.columns = ['date_shop_subtype_avg_item_cnt']\n",
        "group.reset_index(inplace=True)\n",
        "\n",
        "matrix = pd.merge(matrix, group, on=['date_block_num', 'shop_id', 'subtype_code'], how='left')\n",
        "matrix['date_shop_subtype_avg_item_cnt'] = matrix['date_shop_subtype_avg_item_cnt'].astype(np.float16)\n",
        "matrix = lag_feature(matrix, [1], 'date_shop_subtype_avg_item_cnt')\n",
        "matrix.drop(['date_shop_subtype_avg_item_cnt'], axis=1, inplace=True)\n",
        "time.time() - ts"
      ],
      "execution_count": 36,
      "outputs": [
        {
          "output_type": "execute_result",
          "data": {
            "text/plain": [
              "19.72573184967041"
            ]
          },
          "metadata": {},
          "execution_count": 36
        }
      ]
    },
    {
      "metadata": {
        "_uuid": "87d57d01beb0830138dabae79b4022d4c6a9cc12",
        "trusted": true,
        "collapsed": true,
        "colab": {
          "base_uri": "https://localhost:8080/"
        },
        "id": "1XpDNqtenjgm",
        "outputId": "ec212199-c700-4c10-f9c9-95454100b8d4"
      },
      "cell_type": "code",
      "source": [
        "ts = time.time()\n",
        "group = matrix.groupby(['date_block_num', 'city_code']).agg({'item_cnt_month': ['mean']})\n",
        "group.columns = [ 'date_city_avg_item_cnt' ]\n",
        "group.reset_index(inplace=True)\n",
        "\n",
        "matrix = pd.merge(matrix, group, on=['date_block_num', 'city_code'], how='left')\n",
        "matrix['date_city_avg_item_cnt'] = matrix['date_city_avg_item_cnt'].astype(np.float16)\n",
        "matrix = lag_feature(matrix, [1], 'date_city_avg_item_cnt')\n",
        "matrix.drop(['date_city_avg_item_cnt'], axis=1, inplace=True)\n",
        "time.time() - ts"
      ],
      "execution_count": 37,
      "outputs": [
        {
          "output_type": "execute_result",
          "data": {
            "text/plain": [
              "19.88836359977722"
            ]
          },
          "metadata": {},
          "execution_count": 37
        }
      ]
    },
    {
      "metadata": {
        "_uuid": "db1f0170ec4a6fd9894bc53b36f3166d4b26abcf",
        "trusted": true,
        "collapsed": true,
        "colab": {
          "base_uri": "https://localhost:8080/"
        },
        "id": "aCY9aNd6njgm",
        "outputId": "ab3c55a1-4aad-4322-fc67-3818445be262"
      },
      "cell_type": "code",
      "source": [
        "ts = time.time()\n",
        "group = matrix.groupby(['date_block_num', 'item_id', 'city_code']).agg({'item_cnt_month': ['mean']})\n",
        "group.columns = [ 'date_item_city_avg_item_cnt' ]\n",
        "group.reset_index(inplace=True)\n",
        "\n",
        "matrix = pd.merge(matrix, group, on=['date_block_num', 'item_id', 'city_code'], how='left')\n",
        "matrix['date_item_city_avg_item_cnt'] = matrix['date_item_city_avg_item_cnt'].astype(np.float16)\n",
        "matrix = lag_feature(matrix, [1], 'date_item_city_avg_item_cnt')\n",
        "matrix.drop(['date_item_city_avg_item_cnt'], axis=1, inplace=True)\n",
        "time.time() - ts"
      ],
      "execution_count": 38,
      "outputs": [
        {
          "output_type": "execute_result",
          "data": {
            "text/plain": [
              "27.628119945526123"
            ]
          },
          "metadata": {},
          "execution_count": 38
        }
      ]
    },
    {
      "metadata": {
        "_uuid": "3cd5232ad63357dacebe9d223cc93dd669132bb7",
        "trusted": true,
        "collapsed": true,
        "colab": {
          "base_uri": "https://localhost:8080/"
        },
        "id": "2xPU3LmVnjgn",
        "outputId": "fb886ce3-f2f0-409d-f46a-883f7bb92f6e"
      },
      "cell_type": "code",
      "source": [
        "ts = time.time()\n",
        "group = matrix.groupby(['date_block_num', 'type_code']).agg({'item_cnt_month': ['mean']})\n",
        "group.columns = [ 'date_type_avg_item_cnt' ]\n",
        "group.reset_index(inplace=True)\n",
        "\n",
        "matrix = pd.merge(matrix, group, on=['date_block_num', 'type_code'], how='left')\n",
        "matrix['date_type_avg_item_cnt'] = matrix['date_type_avg_item_cnt'].astype(np.float16)\n",
        "matrix = lag_feature(matrix, [1], 'date_type_avg_item_cnt')\n",
        "matrix.drop(['date_type_avg_item_cnt'], axis=1, inplace=True)\n",
        "time.time() - ts"
      ],
      "execution_count": 39,
      "outputs": [
        {
          "output_type": "execute_result",
          "data": {
            "text/plain": [
              "20.07233166694641"
            ]
          },
          "metadata": {},
          "execution_count": 39
        }
      ]
    },
    {
      "metadata": {
        "_uuid": "00394f3694ae9c7093176eadac7abeaa79ff5467",
        "trusted": true,
        "collapsed": true,
        "colab": {
          "base_uri": "https://localhost:8080/"
        },
        "id": "lwiZHJDrnjgn",
        "outputId": "55f87fe3-2757-4ea3-fc10-8f91d07ebcfd"
      },
      "cell_type": "code",
      "source": [
        "ts = time.time()\n",
        "group = matrix.groupby(['date_block_num', 'subtype_code']).agg({'item_cnt_month': ['mean']})\n",
        "group.columns = [ 'date_subtype_avg_item_cnt' ]\n",
        "group.reset_index(inplace=True)\n",
        "\n",
        "matrix = pd.merge(matrix, group, on=['date_block_num', 'subtype_code'], how='left')\n",
        "matrix['date_subtype_avg_item_cnt'] = matrix['date_subtype_avg_item_cnt'].astype(np.float16)\n",
        "matrix = lag_feature(matrix, [1], 'date_subtype_avg_item_cnt')\n",
        "matrix.drop(['date_subtype_avg_item_cnt'], axis=1, inplace=True)\n",
        "time.time() - ts"
      ],
      "execution_count": 40,
      "outputs": [
        {
          "output_type": "execute_result",
          "data": {
            "text/plain": [
              "20.251264810562134"
            ]
          },
          "metadata": {},
          "execution_count": 40
        }
      ]
    },
    {
      "metadata": {
        "_uuid": "6bcea31d93ab035ca3fa1ed7c0afddbf602c414a",
        "id": "A9KiU0-snjgn"
      },
      "cell_type": "markdown",
      "source": [
        "## Trend features"
      ]
    },
    {
      "metadata": {
        "_uuid": "0504e9613087237c255914d9ebd165fac4e88cd0",
        "id": "jwnRTcMMnjgo"
      },
      "cell_type": "markdown",
      "source": [
        "Price trend for the last six months."
      ]
    },
    {
      "metadata": {
        "_uuid": "0da2ded8502e273137991fd2bebbadaf19c19622",
        "trusted": false,
        "collapsed": true,
        "colab": {
          "base_uri": "https://localhost:8080/"
        },
        "id": "1Ozp0Hu8njgo",
        "outputId": "4b8932e6-a181-46dc-bcdf-e966682f32e1"
      },
      "cell_type": "code",
      "source": [
        "ts = time.time()\n",
        "group = train.groupby(['item_id']).agg({'item_price': ['mean']})\n",
        "group.columns = ['item_avg_item_price']\n",
        "group.reset_index(inplace=True)\n",
        "\n",
        "matrix = pd.merge(matrix, group, on=['item_id'], how='left')\n",
        "matrix['item_avg_item_price'] = matrix['item_avg_item_price'].astype(np.float16)\n",
        "\n",
        "group = train.groupby(['date_block_num','item_id']).agg({'item_price': ['mean']})\n",
        "group.columns = ['date_item_avg_item_price']\n",
        "group.reset_index(inplace=True)\n",
        "\n",
        "matrix = pd.merge(matrix, group, on=['date_block_num','item_id'], how='left')\n",
        "matrix['date_item_avg_item_price'] = matrix['date_item_avg_item_price'].astype(np.float16)\n",
        "\n",
        "lags = [1,2,3,4,5,6]\n",
        "matrix = lag_feature(matrix, lags, 'date_item_avg_item_price')\n",
        "\n",
        "for i in lags:\n",
        "    matrix['delta_price_lag_'+str(i)] = \\\n",
        "        (matrix['date_item_avg_item_price_lag_'+str(i)] - matrix['item_avg_item_price']) / matrix['item_avg_item_price']\n",
        "\n",
        "def select_trend(row):\n",
        "    for i in lags:\n",
        "        if row['delta_price_lag_'+str(i)]:\n",
        "            return row['delta_price_lag_'+str(i)]\n",
        "    return 0\n",
        "    \n",
        "matrix['delta_price_lag'] = matrix.apply(select_trend, axis=1)\n",
        "matrix['delta_price_lag'] = matrix['delta_price_lag'].astype(np.float16)\n",
        "matrix['delta_price_lag'].fillna(0, inplace=True)\n",
        "\n",
        "# https://stackoverflow.com/questions/31828240/first-non-null-value-per-row-from-a-list-of-pandas-columns/31828559\n",
        "# matrix['price_trend'] = matrix[['delta_price_lag_1','delta_price_lag_2','delta_price_lag_3']].bfill(axis=1).iloc[:, 0]\n",
        "# Invalid dtype for backfill_2d [float16]\n",
        "\n",
        "fetures_to_drop = ['item_avg_item_price', 'date_item_avg_item_price']\n",
        "for i in lags:\n",
        "    fetures_to_drop += ['date_item_avg_item_price_lag_'+str(i)]\n",
        "    fetures_to_drop += ['delta_price_lag_'+str(i)]\n",
        "\n",
        "matrix.drop(fetures_to_drop, axis=1, inplace=True)\n",
        "\n",
        "time.time() - ts"
      ],
      "execution_count": 41,
      "outputs": [
        {
          "output_type": "execute_result",
          "data": {
            "text/plain": [
              "251.12518906593323"
            ]
          },
          "metadata": {},
          "execution_count": 41
        }
      ]
    },
    {
      "metadata": {
        "_uuid": "17765ddb48f52abd88847a42c0a3ffe974e5b121",
        "id": "Zb11V-ovnjgo"
      },
      "cell_type": "markdown",
      "source": [
        "Last month shop revenue trend"
      ]
    },
    {
      "metadata": {
        "_uuid": "e633be47f1a22b41487866ce67fb874bd296339e",
        "trusted": false,
        "collapsed": true,
        "colab": {
          "base_uri": "https://localhost:8080/"
        },
        "id": "0XYD_OwGnjgp",
        "outputId": "c5b9d4ef-9e3e-4b15-fd13-770bc2b150fa"
      },
      "cell_type": "code",
      "source": [
        "ts = time.time()\n",
        "group = train.groupby(['date_block_num','shop_id']).agg({'revenue': ['sum']})\n",
        "group.columns = ['date_shop_revenue']\n",
        "group.reset_index(inplace=True)\n",
        "\n",
        "matrix = pd.merge(matrix, group, on=['date_block_num','shop_id'], how='left')\n",
        "matrix['date_shop_revenue'] = matrix['date_shop_revenue'].astype(np.float32)\n",
        "\n",
        "group = group.groupby(['shop_id']).agg({'date_shop_revenue': ['mean']})\n",
        "group.columns = ['shop_avg_revenue']\n",
        "group.reset_index(inplace=True)\n",
        "\n",
        "matrix = pd.merge(matrix, group, on=['shop_id'], how='left')\n",
        "matrix['shop_avg_revenue'] = matrix['shop_avg_revenue'].astype(np.float32)\n",
        "\n",
        "matrix['delta_revenue'] = (matrix['date_shop_revenue'] - matrix['shop_avg_revenue']) / matrix['shop_avg_revenue']\n",
        "matrix['delta_revenue'] = matrix['delta_revenue'].astype(np.float16)\n",
        "\n",
        "matrix = lag_feature(matrix, [1], 'delta_revenue')\n",
        "\n",
        "matrix.drop(['date_shop_revenue','shop_avg_revenue','delta_revenue'], axis=1, inplace=True)\n",
        "time.time() - ts"
      ],
      "execution_count": 42,
      "outputs": [
        {
          "output_type": "execute_result",
          "data": {
            "text/plain": [
              "26.76621103286743"
            ]
          },
          "metadata": {},
          "execution_count": 42
        }
      ]
    },
    {
      "metadata": {
        "_uuid": "47e06af411b7d26cd93dad3d6735e48e5fbdee50",
        "id": "bnaybogEnjgp"
      },
      "cell_type": "markdown",
      "source": [
        "## Special features"
      ]
    },
    {
      "metadata": {
        "_uuid": "bb521e1f33d4124a3b90b47447bdb29150770b6e",
        "trusted": true,
        "collapsed": true,
        "id": "5jg0c2DSnjgp"
      },
      "cell_type": "code",
      "source": [
        "matrix['month'] = matrix['date_block_num'] % 12"
      ],
      "execution_count": 43,
      "outputs": []
    },
    {
      "metadata": {
        "_uuid": "b4dc4d2ff86483989c4b74fc02a0d01ca68a5c75",
        "id": "uXvrHB0lnjgp"
      },
      "cell_type": "markdown",
      "source": [
        "Number of days in a month. There are no leap years."
      ]
    },
    {
      "metadata": {
        "_uuid": "e23f0201056b73368e3b70d4c36c6bb9e4a55291",
        "trusted": true,
        "collapsed": true,
        "id": "2D1zmdMDnjgq"
      },
      "cell_type": "code",
      "source": [
        "days = pd.Series([31,28,31,30,31,30,31,31,30,31,30,31])\n",
        "matrix['days'] = matrix['month'].map(days).astype(np.int8)"
      ],
      "execution_count": 44,
      "outputs": []
    },
    {
      "metadata": {
        "_uuid": "7c096e86eb0043c0f6eeb899de24e28ca4c4e044",
        "id": "ibxu8KZbnjgq"
      },
      "cell_type": "markdown",
      "source": [
        "Months since the last sale for each shop/item pair and for item only. I use programing approach.\n",
        "\n",
        "<i>Create HashTable with key equals to {shop_id,item_id} and value equals to date_block_num. Iterate data from the top. Foreach row if {row.shop_id,row.item_id} is not present in the table, then add it to the table and set its value to row.date_block_num. if HashTable contains key, then calculate the difference beteween cached value and row.date_block_num.</i>"
      ]
    },
    {
      "metadata": {
        "_uuid": "3458a7056c963167760921417d1f863f074f2b39",
        "trusted": false,
        "collapsed": true,
        "colab": {
          "base_uri": "https://localhost:8080/"
        },
        "id": "-I1yZWeFnjgq",
        "outputId": "ab230950-a714-4cf9-c2fa-7f800b3a05b5"
      },
      "cell_type": "code",
      "source": [
        "ts = time.time()\n",
        "cache = {}\n",
        "matrix['item_shop_last_sale'] = -1\n",
        "matrix['item_shop_last_sale'] = matrix['item_shop_last_sale'].astype(np.int8)\n",
        "for idx, row in matrix.iterrows():    \n",
        "    key = str(row.item_id)+' '+str(row.shop_id)\n",
        "    if key not in cache:\n",
        "        if row.item_cnt_month!=0:\n",
        "            cache[key] = row.date_block_num\n",
        "    else:\n",
        "        last_date_block_num = cache[key]\n",
        "        matrix.at[idx, 'item_shop_last_sale'] = row.date_block_num - last_date_block_num\n",
        "        cache[key] = row.date_block_num         \n",
        "time.time() - ts"
      ],
      "execution_count": 45,
      "outputs": [
        {
          "output_type": "execute_result",
          "data": {
            "text/plain": [
              "1048.2609541416168"
            ]
          },
          "metadata": {},
          "execution_count": 45
        }
      ]
    },
    {
      "metadata": {
        "_uuid": "28b29fae3906d870b4dc3064a7f359b6d3abf623",
        "trusted": false,
        "collapsed": true,
        "colab": {
          "base_uri": "https://localhost:8080/"
        },
        "id": "3zyOZFqMnjgq",
        "outputId": "9262e7f4-61aa-43ee-840a-6fd1db9626a4"
      },
      "cell_type": "code",
      "source": [
        "ts = time.time()\n",
        "cache = {}\n",
        "matrix['item_last_sale'] = -1\n",
        "matrix['item_last_sale'] = matrix['item_last_sale'].astype(np.int8)\n",
        "for idx, row in matrix.iterrows():    \n",
        "    key = row.item_id\n",
        "    if key not in cache:\n",
        "        if row.item_cnt_month!=0:\n",
        "            cache[key] = row.date_block_num\n",
        "    else:\n",
        "        last_date_block_num = cache[key]\n",
        "        if row.date_block_num>last_date_block_num:\n",
        "            matrix.at[idx, 'item_last_sale'] = row.date_block_num - last_date_block_num\n",
        "            cache[key] = row.date_block_num         \n",
        "time.time() - ts"
      ],
      "execution_count": 46,
      "outputs": [
        {
          "output_type": "execute_result",
          "data": {
            "text/plain": [
              "699.0541002750397"
            ]
          },
          "metadata": {},
          "execution_count": 46
        }
      ]
    },
    {
      "metadata": {
        "_uuid": "61987e6adc1bec2ea897eec837c0253f7f73fdb5",
        "id": "MUEnQoIqnjgr"
      },
      "cell_type": "markdown",
      "source": [
        "Months since the first sale for each shop/item pair and for item only."
      ]
    },
    {
      "metadata": {
        "_uuid": "ad0869709bbada35726d5ca41dd913d817249f8e",
        "trusted": true,
        "collapsed": true,
        "colab": {
          "base_uri": "https://localhost:8080/"
        },
        "id": "4rApsTWfnjgr",
        "outputId": "a2c1b97c-e087-4819-f304-1941920a59a2"
      },
      "cell_type": "code",
      "source": [
        "ts = time.time()\n",
        "matrix['item_shop_first_sale'] = matrix['date_block_num'] - matrix.groupby(['item_id','shop_id'])['date_block_num'].transform('min')\n",
        "matrix['item_first_sale'] = matrix['date_block_num'] - matrix.groupby('item_id')['date_block_num'].transform('min')\n",
        "time.time() - ts"
      ],
      "execution_count": 47,
      "outputs": [
        {
          "output_type": "execute_result",
          "data": {
            "text/plain": [
              "2.38645076751709"
            ]
          },
          "metadata": {},
          "execution_count": 47
        }
      ]
    },
    {
      "metadata": {
        "_uuid": "966cb34ccfe849fbb3707d93270691cb8eef7a89",
        "id": "bm9Dcfcmnjgr"
      },
      "cell_type": "markdown",
      "source": [
        "## Final preparations\n",
        "Because of the using 12 as lag value drop first 12 months. Also drop all the columns with this month calculated values (other words which can not be calcucated for the test set)."
      ]
    },
    {
      "metadata": {
        "_uuid": "04df1bc4240f409a5d4521c6f70c2ced44f7c3d4",
        "trusted": true,
        "collapsed": true,
        "colab": {
          "base_uri": "https://localhost:8080/"
        },
        "id": "QqdK8xGwnjgr",
        "outputId": "95c51462-2f05-4f5b-c39b-f4cff907629a"
      },
      "cell_type": "code",
      "source": [
        "ts = time.time()\n",
        "matrix = matrix[matrix.date_block_num > 11]\n",
        "time.time() - ts"
      ],
      "execution_count": 48,
      "outputs": [
        {
          "output_type": "execute_result",
          "data": {
            "text/plain": [
              "1.9841227531433105"
            ]
          },
          "metadata": {},
          "execution_count": 48
        }
      ]
    },
    {
      "metadata": {
        "_uuid": "48a14784050901f878b40f093e4bc34e07ecce05",
        "id": "47acQkBpnjgs"
      },
      "cell_type": "markdown",
      "source": [
        "Producing lags brings a lot of nulls."
      ]
    },
    {
      "metadata": {
        "_uuid": "8e5d8cb5cea9be28af4a0486cc1bf797e5b5c7ee",
        "trusted": true,
        "collapsed": true,
        "colab": {
          "base_uri": "https://localhost:8080/"
        },
        "id": "F-C1NdWMnjgs",
        "outputId": "d2846533-af36-48f6-e7e7-e22d7ada737b"
      },
      "cell_type": "code",
      "source": [
        "ts = time.time()\n",
        "def fill_na(df):\n",
        "    for col in df.columns:\n",
        "        if ('_lag_' in col) & (df[col].isnull().any()):\n",
        "            if ('item_cnt' in col):\n",
        "                df[col].fillna(0, inplace=True)         \n",
        "    return df\n",
        "\n",
        "matrix = fill_na(matrix)\n",
        "time.time() - ts"
      ],
      "execution_count": 49,
      "outputs": [
        {
          "output_type": "stream",
          "name": "stderr",
          "text": [
            "/usr/local/lib/python3.7/dist-packages/pandas/core/generic.py:6392: SettingWithCopyWarning: \n",
            "A value is trying to be set on a copy of a slice from a DataFrame\n",
            "\n",
            "See the caveats in the documentation: https://pandas.pydata.org/pandas-docs/stable/user_guide/indexing.html#returning-a-view-versus-a-copy\n",
            "  return self._update_inplace(result)\n"
          ]
        },
        {
          "output_type": "execute_result",
          "data": {
            "text/plain": [
              "2.6878652572631836"
            ]
          },
          "metadata": {},
          "execution_count": 49
        }
      ]
    },
    {
      "metadata": {
        "_uuid": "00bf3fffc1b143d0555d03b9d79b5fd00d9d0dc9",
        "trusted": false,
        "collapsed": true,
        "colab": {
          "base_uri": "https://localhost:8080/"
        },
        "id": "KyzkRyslnjgs",
        "outputId": "4aae813a-4566-43b7-bfc8-50d5ff151eff"
      },
      "cell_type": "code",
      "source": [
        "matrix.columns"
      ],
      "execution_count": 50,
      "outputs": [
        {
          "output_type": "execute_result",
          "data": {
            "text/plain": [
              "Index(['date_block_num', 'shop_id', 'item_id', 'item_cnt_month', 'city_code',\n",
              "       'item_category_id', 'type_code', 'subtype_code', 'item_cnt_month_lag_1',\n",
              "       'item_cnt_month_lag_2', 'item_cnt_month_lag_3', 'item_cnt_month_lag_6',\n",
              "       'item_cnt_month_lag_12', 'date_avg_item_cnt_lag_1',\n",
              "       'date_item_avg_item_cnt_lag_1', 'date_item_avg_item_cnt_lag_2',\n",
              "       'date_item_avg_item_cnt_lag_3', 'date_item_avg_item_cnt_lag_6',\n",
              "       'date_item_avg_item_cnt_lag_12', 'date_shop_avg_item_cnt_lag_1',\n",
              "       'date_shop_avg_item_cnt_lag_2', 'date_shop_avg_item_cnt_lag_3',\n",
              "       'date_shop_avg_item_cnt_lag_6', 'date_shop_avg_item_cnt_lag_12',\n",
              "       'date_cat_avg_item_cnt_lag_1', 'date_shop_cat_avg_item_cnt_lag_1',\n",
              "       'date_shop_type_avg_item_cnt_lag_1',\n",
              "       'date_shop_subtype_avg_item_cnt_lag_1', 'date_city_avg_item_cnt_lag_1',\n",
              "       'date_item_city_avg_item_cnt_lag_1', 'date_type_avg_item_cnt_lag_1',\n",
              "       'date_subtype_avg_item_cnt_lag_1', 'delta_price_lag',\n",
              "       'delta_revenue_lag_1', 'month', 'days', 'item_shop_last_sale',\n",
              "       'item_last_sale', 'item_shop_first_sale', 'item_first_sale'],\n",
              "      dtype='object')"
            ]
          },
          "metadata": {},
          "execution_count": 50
        }
      ]
    },
    {
      "metadata": {
        "_uuid": "5f4e4c5c552daf8d4da6999ae4b63f13459b2887",
        "trusted": false,
        "collapsed": true,
        "colab": {
          "base_uri": "https://localhost:8080/"
        },
        "id": "-2QbjBv1njgt",
        "outputId": "f33515bb-c522-45c6-e6ba-60ca8fd278f6"
      },
      "cell_type": "code",
      "source": [
        "matrix.info()"
      ],
      "execution_count": 51,
      "outputs": [
        {
          "output_type": "stream",
          "name": "stdout",
          "text": [
            "<class 'pandas.core.frame.DataFrame'>\n",
            "Int64Index: 6639294 entries, 4488710 to 11128003\n",
            "Data columns (total 40 columns):\n",
            " #   Column                                Dtype  \n",
            "---  ------                                -----  \n",
            " 0   date_block_num                        int8   \n",
            " 1   shop_id                               int8   \n",
            " 2   item_id                               int16  \n",
            " 3   item_cnt_month                        float16\n",
            " 4   city_code                             int8   \n",
            " 5   item_category_id                      int8   \n",
            " 6   type_code                             int8   \n",
            " 7   subtype_code                          int8   \n",
            " 8   item_cnt_month_lag_1                  float16\n",
            " 9   item_cnt_month_lag_2                  float16\n",
            " 10  item_cnt_month_lag_3                  float16\n",
            " 11  item_cnt_month_lag_6                  float16\n",
            " 12  item_cnt_month_lag_12                 float16\n",
            " 13  date_avg_item_cnt_lag_1               float16\n",
            " 14  date_item_avg_item_cnt_lag_1          float16\n",
            " 15  date_item_avg_item_cnt_lag_2          float16\n",
            " 16  date_item_avg_item_cnt_lag_3          float16\n",
            " 17  date_item_avg_item_cnt_lag_6          float16\n",
            " 18  date_item_avg_item_cnt_lag_12         float16\n",
            " 19  date_shop_avg_item_cnt_lag_1          float16\n",
            " 20  date_shop_avg_item_cnt_lag_2          float16\n",
            " 21  date_shop_avg_item_cnt_lag_3          float16\n",
            " 22  date_shop_avg_item_cnt_lag_6          float16\n",
            " 23  date_shop_avg_item_cnt_lag_12         float16\n",
            " 24  date_cat_avg_item_cnt_lag_1           float16\n",
            " 25  date_shop_cat_avg_item_cnt_lag_1      float16\n",
            " 26  date_shop_type_avg_item_cnt_lag_1     float16\n",
            " 27  date_shop_subtype_avg_item_cnt_lag_1  float16\n",
            " 28  date_city_avg_item_cnt_lag_1          float16\n",
            " 29  date_item_city_avg_item_cnt_lag_1     float16\n",
            " 30  date_type_avg_item_cnt_lag_1          float16\n",
            " 31  date_subtype_avg_item_cnt_lag_1       float16\n",
            " 32  delta_price_lag                       float16\n",
            " 33  delta_revenue_lag_1                   float16\n",
            " 34  month                                 int8   \n",
            " 35  days                                  int8   \n",
            " 36  item_shop_last_sale                   int8   \n",
            " 37  item_last_sale                        int8   \n",
            " 38  item_shop_first_sale                  int8   \n",
            " 39  item_first_sale                       int8   \n",
            "dtypes: float16(27), int16(1), int8(12)\n",
            "memory usage: 481.2 MB\n"
          ]
        }
      ]
    },
    {
      "metadata": {
        "_uuid": "5d9988f8da8876f74092fbf827ceb6c61dd09d5e",
        "trusted": true,
        "collapsed": true,
        "id": "lvaXsqa5njgt"
      },
      "cell_type": "code",
      "source": [
        "matrix.to_pickle('data.pkl')\n",
        "del matrix\n",
        "del cache\n",
        "del group\n",
        "del items\n",
        "del shops\n",
        "del cats\n",
        "del train\n",
        "# leave test for submission\n",
        "gc.collect();"
      ],
      "execution_count": 52,
      "outputs": []
    },
    {
      "metadata": {
        "_uuid": "b69932efb440af8f6435f3cd802fbcd15682af71",
        "collapsed": true,
        "id": "qH0ROelenjgt"
      },
      "cell_type": "markdown",
      "source": [
        "# Part 2, xgboost"
      ]
    },
    {
      "metadata": {
        "_uuid": "a54364495b1818e9f069efa0c53500bf9e21d5f9",
        "trusted": false,
        "collapsed": true,
        "id": "WHhTcNXVnjgt"
      },
      "cell_type": "code",
      "source": [
        "data = pd.read_pickle('data.pkl')"
      ],
      "execution_count": 53,
      "outputs": []
    },
    {
      "metadata": {
        "_uuid": "e5742775554b9e48e4d5c19784184069ad3eb9fb",
        "id": "6vb8EoaHnjgu"
      },
      "cell_type": "markdown",
      "source": [
        "Select perfect features"
      ]
    },
    {
      "metadata": {
        "_uuid": "bfc928a916bb8b285b2fe90fb1a311cf2fbbf2e3",
        "trusted": false,
        "collapsed": true,
        "id": "qJHPt4Drnjgu"
      },
      "cell_type": "code",
      "source": [
        "data = data[[\n",
        "    'date_block_num',\n",
        "    'shop_id',\n",
        "    'item_id',\n",
        "    'item_cnt_month',\n",
        "    'city_code',\n",
        "    'item_category_id',\n",
        "    'type_code',\n",
        "    'subtype_code',\n",
        "    'item_cnt_month_lag_1',\n",
        "    'item_cnt_month_lag_2',\n",
        "    'item_cnt_month_lag_3',\n",
        "    'item_cnt_month_lag_6',\n",
        "    'item_cnt_month_lag_12',\n",
        "    'date_avg_item_cnt_lag_1',\n",
        "    'date_item_avg_item_cnt_lag_1',\n",
        "    'date_item_avg_item_cnt_lag_2',\n",
        "    'date_item_avg_item_cnt_lag_3',\n",
        "    'date_item_avg_item_cnt_lag_6',\n",
        "    'date_item_avg_item_cnt_lag_12',\n",
        "    'date_shop_avg_item_cnt_lag_1',\n",
        "    'date_shop_avg_item_cnt_lag_2',\n",
        "    'date_shop_avg_item_cnt_lag_3',\n",
        "    'date_shop_avg_item_cnt_lag_6',\n",
        "    'date_shop_avg_item_cnt_lag_12',\n",
        "    'date_cat_avg_item_cnt_lag_1',\n",
        "    'date_shop_cat_avg_item_cnt_lag_1',\n",
        "    #'date_shop_type_avg_item_cnt_lag_1',\n",
        "    #'date_shop_subtype_avg_item_cnt_lag_1',\n",
        "    'date_city_avg_item_cnt_lag_1',\n",
        "    'date_item_city_avg_item_cnt_lag_1',\n",
        "    #'date_type_avg_item_cnt_lag_1',\n",
        "    #'date_subtype_avg_item_cnt_lag_1',\n",
        "    'delta_price_lag',\n",
        "    'month',\n",
        "    'days',\n",
        "    'item_shop_last_sale',\n",
        "    'item_last_sale',\n",
        "    'item_shop_first_sale',\n",
        "    'item_first_sale',\n",
        "]]"
      ],
      "execution_count": 54,
      "outputs": []
    },
    {
      "metadata": {
        "_uuid": "11eb4f2f5ada18aa8993ec55e8c63e80758fc19e",
        "id": "Zc1rBBIinjgu"
      },
      "cell_type": "markdown",
      "source": [
        "Validation strategy is 34 month for the test set, 33 month for the validation set and 13-33 months for the train."
      ]
    },
    {
      "metadata": {
        "_uuid": "9af76d7b80064573a453e5e10c35b76fc31c47a4",
        "trusted": false,
        "collapsed": true,
        "id": "aUUOsSYmnjgu"
      },
      "cell_type": "code",
      "source": [
        "X_train = data[data.date_block_num < 33].drop(['item_cnt_month'], axis=1)\n",
        "Y_train = data[data.date_block_num < 33]['item_cnt_month']\n",
        "X_valid = data[data.date_block_num == 33].drop(['item_cnt_month'], axis=1)\n",
        "Y_valid = data[data.date_block_num == 33]['item_cnt_month']\n",
        "X_test = data[data.date_block_num == 34].drop(['item_cnt_month'], axis=1)"
      ],
      "execution_count": 55,
      "outputs": []
    },
    {
      "metadata": {
        "_uuid": "6ea5437e8949db6d3e54e68b7b0c18cd0befe38c",
        "trusted": false,
        "collapsed": true,
        "id": "ILWoio0dnjgv"
      },
      "cell_type": "code",
      "source": [
        "del data\n",
        "gc.collect();"
      ],
      "execution_count": 56,
      "outputs": []
    },
    {
      "metadata": {
        "_uuid": "acef75c36501f808d45f81fc69f9708fc3283bc3",
        "trusted": false,
        "collapsed": true,
        "colab": {
          "base_uri": "https://localhost:8080/"
        },
        "id": "_jQdYCDOnjgv",
        "outputId": "3f875153-deb8-4ff5-947e-a57ffb578148"
      },
      "cell_type": "code",
      "source": [
        "ts = time.time()\n",
        "\n",
        "model = XGBRegressor(\n",
        "    max_depth=8,\n",
        "    n_estimators=1000,\n",
        "    min_child_weight=300, \n",
        "    colsample_bytree=0.8, \n",
        "    subsample=0.8, \n",
        "    eta=0.3,    \n",
        "    seed=2)\n",
        "\n",
        "model.fit(\n",
        "    X_train, \n",
        "    Y_train, \n",
        "    eval_metric=\"rmse\", \n",
        "    eval_set=[(X_train, Y_train), (X_valid, Y_valid)], \n",
        "    verbose=True, \n",
        "    early_stopping_rounds = 10)\n",
        "\n",
        "time.time() - ts"
      ],
      "execution_count": 57,
      "outputs": [
        {
          "output_type": "stream",
          "name": "stdout",
          "text": [
            "[12:11:30] WARNING: /workspace/src/objective/regression_obj.cu:152: reg:linear is now deprecated in favor of reg:squarederror.\n",
            "[12:11:30] WARNING: /workspace/src/learner.cc:686: Tree method is automatically selected to be 'approx' for faster speed. To use old behavior (exact greedy algorithm on single machine), set tree_method to 'exact'.\n",
            "[0]\tvalidation_0-rmse:1.12497\tvalidation_1-rmse:1.11672\n",
            "Multiple eval metrics have been passed: 'validation_1-rmse' will be used for early stopping.\n",
            "\n",
            "Will train until validation_1-rmse hasn't improved in 10 rounds.\n",
            "[1]\tvalidation_0-rmse:1.08564\tvalidation_1-rmse:1.08306\n",
            "[2]\tvalidation_0-rmse:1.05213\tvalidation_1-rmse:1.05097\n",
            "[3]\tvalidation_0-rmse:1.00984\tvalidation_1-rmse:1.02564\n",
            "[4]\tvalidation_0-rmse:0.981889\tvalidation_1-rmse:1.00474\n",
            "[5]\tvalidation_0-rmse:0.961178\tvalidation_1-rmse:0.987502\n",
            "[6]\tvalidation_0-rmse:0.942607\tvalidation_1-rmse:0.974778\n",
            "[7]\tvalidation_0-rmse:0.924051\tvalidation_1-rmse:0.961546\n",
            "[8]\tvalidation_0-rmse:0.909705\tvalidation_1-rmse:0.951578\n",
            "[9]\tvalidation_0-rmse:0.898063\tvalidation_1-rmse:0.943331\n",
            "[10]\tvalidation_0-rmse:0.887872\tvalidation_1-rmse:0.937553\n",
            "[11]\tvalidation_0-rmse:0.879244\tvalidation_1-rmse:0.932053\n",
            "[12]\tvalidation_0-rmse:0.872129\tvalidation_1-rmse:0.926914\n",
            "[13]\tvalidation_0-rmse:0.866353\tvalidation_1-rmse:0.923514\n",
            "[14]\tvalidation_0-rmse:0.86119\tvalidation_1-rmse:0.921072\n",
            "[15]\tvalidation_0-rmse:0.857019\tvalidation_1-rmse:0.918583\n",
            "[16]\tvalidation_0-rmse:0.853456\tvalidation_1-rmse:0.917226\n",
            "[17]\tvalidation_0-rmse:0.849469\tvalidation_1-rmse:0.913843\n",
            "[18]\tvalidation_0-rmse:0.846589\tvalidation_1-rmse:0.912278\n",
            "[19]\tvalidation_0-rmse:0.843862\tvalidation_1-rmse:0.911362\n",
            "[20]\tvalidation_0-rmse:0.841578\tvalidation_1-rmse:0.910409\n",
            "[21]\tvalidation_0-rmse:0.839386\tvalidation_1-rmse:0.909569\n",
            "[22]\tvalidation_0-rmse:0.837712\tvalidation_1-rmse:0.908999\n",
            "[23]\tvalidation_0-rmse:0.835935\tvalidation_1-rmse:0.908635\n",
            "[24]\tvalidation_0-rmse:0.834451\tvalidation_1-rmse:0.908843\n",
            "[25]\tvalidation_0-rmse:0.832906\tvalidation_1-rmse:0.908513\n",
            "[26]\tvalidation_0-rmse:0.831115\tvalidation_1-rmse:0.907443\n",
            "[27]\tvalidation_0-rmse:0.829787\tvalidation_1-rmse:0.907411\n",
            "[28]\tvalidation_0-rmse:0.828469\tvalidation_1-rmse:0.90697\n",
            "[29]\tvalidation_0-rmse:0.827271\tvalidation_1-rmse:0.906189\n",
            "[30]\tvalidation_0-rmse:0.826134\tvalidation_1-rmse:0.905697\n",
            "[31]\tvalidation_0-rmse:0.824788\tvalidation_1-rmse:0.90509\n",
            "[32]\tvalidation_0-rmse:0.823995\tvalidation_1-rmse:0.905156\n",
            "[33]\tvalidation_0-rmse:0.823053\tvalidation_1-rmse:0.905539\n",
            "[34]\tvalidation_0-rmse:0.822373\tvalidation_1-rmse:0.905504\n",
            "[35]\tvalidation_0-rmse:0.821385\tvalidation_1-rmse:0.905674\n",
            "[36]\tvalidation_0-rmse:0.820396\tvalidation_1-rmse:0.905779\n",
            "[37]\tvalidation_0-rmse:0.81962\tvalidation_1-rmse:0.905498\n",
            "[38]\tvalidation_0-rmse:0.819093\tvalidation_1-rmse:0.905443\n",
            "[39]\tvalidation_0-rmse:0.817977\tvalidation_1-rmse:0.905711\n",
            "[40]\tvalidation_0-rmse:0.817496\tvalidation_1-rmse:0.905863\n",
            "[41]\tvalidation_0-rmse:0.81693\tvalidation_1-rmse:0.906403\n",
            "Stopping. Best iteration:\n",
            "[31]\tvalidation_0-rmse:0.824788\tvalidation_1-rmse:0.90509\n",
            "\n"
          ]
        },
        {
          "output_type": "execute_result",
          "data": {
            "text/plain": [
              "2396.408162355423"
            ]
          },
          "metadata": {},
          "execution_count": 57
        }
      ]
    },
    {
      "metadata": {
        "_uuid": "8ff5a80a22d046c5ca1cb27e938c757b607551d2",
        "trusted": false,
        "collapsed": true,
        "id": "DxZzOF0Enjgv"
      },
      "cell_type": "code",
      "source": [
        "Y_pred = model.predict(X_valid).clip(0, 20)\n",
        "Y_test = model.predict(X_test).clip(0, 20)\n",
        "\n",
        "submission = pd.DataFrame({\n",
        "    \"ID\": test.index, \n",
        "    \"item_cnt_month\": Y_test\n",
        "})\n",
        "submission.to_csv('xgb_submission.csv', index=False)\n",
        "\n",
        "# save predictions for an ensemble\n",
        "pickle.dump(Y_pred, open('xgb_train.pickle', 'wb'))\n",
        "pickle.dump(Y_test, open('xgb_test.pickle', 'wb'))"
      ],
      "execution_count": 58,
      "outputs": []
    },
    {
      "metadata": {
        "_uuid": "c8adc7c93323eb77baeceb2e8db17390b5c4deb3",
        "trusted": false,
        "collapsed": true,
        "colab": {
          "base_uri": "https://localhost:8080/",
          "height": 856
        },
        "id": "jRcavvt_njgw",
        "outputId": "4d991f29-21ad-4dab-9646-b40fa97990a7"
      },
      "cell_type": "code",
      "source": [
        "plot_features(model, (10,14))"
      ],
      "execution_count": 59,
      "outputs": [
        {
          "output_type": "execute_result",
          "data": {
            "text/plain": [
              "<matplotlib.axes._subplots.AxesSubplot at 0x7f1b4703f8d0>"
            ]
          },
          "metadata": {},
          "execution_count": 59
        },
        {
          "output_type": "display_data",
          "data": {
            "image/png": "[encoded data removed]",
            "text/plain": [
              "<Figure size 720x1008 with 1 Axes>"
            ]
          },
          "metadata": {
            "needs_background": "light"
          }
        }
      ]
    }
  ],
  "metadata": {
    "kernelspec": {
      "display_name": "Python 3",
      "language": "python",
      "name": "python3"
    },
    "language_info": {
      "codemirror_mode": {
        "name": "ipython",
        "version": 3
      },
      "file_extension": ".py",
      "mimetype": "text/x-python",
      "name": "python",
      "nbconvert_exporter": "python",
      "pygments_lexer": "ipython3",
      "version": "3.6.4"
    },
    "colab": {
      "name": "feature-engineering-xgboost.ipynb",
      "provenance": [],
      "collapsed_sections": []
    }
  },
  "nbformat": 4,
  "nbformat_minor": 0
}